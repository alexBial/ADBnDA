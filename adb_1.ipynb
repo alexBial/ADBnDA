{
 "cells": [
  {
   "cell_type": "code",
   "execution_count": 1,
   "metadata": {},
   "outputs": [],
   "source": [
    "from math import sqrt\n",
    "from numpy.linalg import inv,det\n",
    "import math\n",
    "import numpy as np\n",
    "import matplotlib.pyplot as plt"
   ]
  },
  {
   "cell_type": "code",
   "execution_count": 6,
   "metadata": {},
   "outputs": [
    {
     "name": "stdout",
     "output_type": "stream",
     "text": [
      "k = 3280.7316257200923\n",
      "m = 4467\n",
      "l = 2j\n",
      "d = 7747.731625720093\n",
      "c = (7747.731625720093+2j)\n"
     ]
    }
   ],
   "source": [
    "#ex1\n",
    "k = 1240 * math.sqrt(7)\n",
    "m = 4467\n",
    "l = 2j\n",
    "d = k+m\n",
    "c = d+l\n",
    "print(\"k =\",k)\n",
    "print(\"m =\",m)\n",
    "print(\"l =\",l)\n",
    "print(\"d =\",d)\n",
    "print(\"c =\",c)"
   ]
  },
  {
   "cell_type": "code",
   "execution_count": 7,
   "metadata": {},
   "outputs": [
    {
     "name": "stdout",
     "output_type": "stream",
     "text": [
      "default:  7747.731625720093\n",
      "3 places:  7747.732\n",
      "20 places:  7747.73162572009277937468\n"
     ]
    }
   ],
   "source": [
    "#ex2\n",
    "print(\"default: \" , d)\n",
    "print(\"3 places: \", format(d,'.3f'))\n",
    "print(\"20 places: \",format(d,'.20f'))"
   ]
  },
  {
   "cell_type": "code",
   "execution_count": 8,
   "metadata": {},
   "outputs": [
    {
     "name": "stdout",
     "output_type": "stream",
     "text": [
      "5340.707511102648\n"
     ]
    }
   ],
   "source": [
    "#ex3\n",
    "h = 33\n",
    "r = 17\n",
    "S = (2*math.pi*r*h)+2*math.pi*r**2\n",
    "print(S)"
   ]
  },
  {
   "cell_type": "code",
   "execution_count": 9,
   "metadata": {},
   "outputs": [
    {
     "data": {
      "text/plain": [
       "'\\nCOMMENT\\n'"
      ]
     },
     "execution_count": 9,
     "metadata": {},
     "output_type": "execute_result"
    }
   ],
   "source": [
    "#ex4\n",
    "\"\"\"\n",
    "COMMENT\n",
    "\"\"\""
   ]
  },
  {
   "cell_type": "code",
   "execution_count": 10,
   "metadata": {},
   "outputs": [
    {
     "name": "stdout",
     "output_type": "stream",
     "text": [
      "13477865086.991468\n"
     ]
    }
   ],
   "source": [
    "#ex5\n",
    "x1 = math.pi\n",
    "t = 10\n",
    "r = 2\n",
    "B = ((x1+r)/(r*math.sin(2*x1)+3.3456))*x1**(t*r)\n",
    "print(B)"
   ]
  },
  {
   "cell_type": "code",
   "execution_count": 12,
   "metadata": {},
   "outputs": [
    {
     "name": "stdout",
     "output_type": "stream",
     "text": [
      "Matrix: \n",
      " [[ 1.41421356  1.         -1.41421356]\n",
      " [ 0.          1.          1.        ]\n",
      " [-1.41421356  1.41421356  1.        ]]\n",
      "T Matrix: \n",
      " [[ 1.41421356  0.         -1.41421356]\n",
      " [ 1.          1.          1.41421356]\n",
      " [-1.41421356  1.          1.        ]]\n",
      "I Matrix: \n",
      " [[ 0.10355339  0.75       -0.60355339]\n",
      " [ 0.35355339  0.14644661  0.35355339]\n",
      " [-0.35355339  0.85355339 -0.35355339]]\n",
      "det: -4.0\n"
     ]
    }
   ],
   "source": [
    "#ex6\n",
    "a = math.sqrt(2)\n",
    "matrix = np.array([[a,1,-a],[0,1,1],[-a,a,1]])\n",
    "\n",
    "print(\"Matrix: \\n {0}\".format(matrix))\n",
    "\n",
    "trans = matrix.T\n",
    "inv = np.linalg.inv(matrix)\n",
    "det = np.linalg.det(matrix)\n",
    "\n",
    "print(\"T Matrix: \\n {0}\".format(trans))\n",
    "print(\"I Matrix: \\n {0}\".format(inv))\n",
    "print(\"det: {0}\".format(det))"
   ]
  },
  {
   "cell_type": "code",
   "execution_count": 16,
   "metadata": {},
   "outputs": [
    {
     "name": "stdout",
     "output_type": "stream",
     "text": [
      "1.4142135623730951\n",
      "1.0\n",
      "1.4142135623730951\n",
      "[-1.41421356  1.          1.        ]\n",
      "[0. 1. 1.]\n"
     ]
    }
   ],
   "source": [
    "#Ex6\n",
    "print(matrix[0,0])\n",
    "print(matrix[2,2])\n",
    "print(matrix[2,1])\n",
    "w1=(matrix[:,2])\n",
    "w2=(matrix[1,:])\n",
    "\n",
    "print(w1)\n",
    "print(w2)"
   ]
  },
  {
   "cell_type": "code",
   "execution_count": 17,
   "metadata": {},
   "outputs": [
    {
     "name": "stdout",
     "output_type": "stream",
     "text": [
      "[ 5.  3.  2. -2. -1.]\n"
     ]
    }
   ],
   "source": [
    "#ex7\n",
    "coeff = [1,-7,3,43,-28,-60]\n",
    "print(np.roots(coeff))"
   ]
  },
  {
   "cell_type": "code",
   "execution_count": 18,
   "metadata": {},
   "outputs": [
    {
     "name": "stdout",
     "output_type": "stream",
     "text": [
      "[3 5 7 9]\n",
      "[2.   2.25 2.5  2.75 3.  ]\n"
     ]
    }
   ],
   "source": [
    "#ex8\n",
    "print(np.arange(3,11,2))\n",
    "print(np.linspace(2.0, 3.0, num=5))\n"
   ]
  },
  {
   "cell_type": "code",
   "execution_count": 25,
   "metadata": {},
   "outputs": [
    {
     "data": {
      "image/png": "[encoded data removed]",
      "text/plain": [
       "<Figure size 432x288 with 1 Axes>"
      ]
     },
     "metadata": {
      "needs_background": "light"
     },
     "output_type": "display_data"
    }
   ],
   "source": [
    "#ex9\n",
    "def f(x):\n",
    "    return ((x**3)-(3*x))\n",
    "x = np.linspace(-1,1, 20)\n",
    "y = f(x)\n",
    "#plt.plot(x,y)\n",
    "x = np.linspace(-5,5, 20)\n",
    "y = f(x)\n",
    "#plt.plot(x,y)\n",
    "x = np.linspace(0,5, 20)\n",
    "y = f(x)\n",
    "plt.plot(x,y)\n",
    "plt.title(\"exmaple chart\")\n",
    "plt.xlabel('x')\n",
    "plt.ylabel('y')\n",
    "plt.legend('chart 1')\n",
    "plt.show()"
   ]
  },
  {
   "cell_type": "code",
   "execution_count": 26,
   "metadata": {},
   "outputs": [
    {
     "name": "stdout",
     "output_type": "stream",
     "text": [
      "4500.0\n"
     ]
    },
    {
     "data": {
      "image/png": "[encoded data removed]",
      "text/plain": [
       "<Figure size 432x288 with 1 Axes>"
      ]
     },
     "metadata": {
      "needs_background": "light"
     },
     "output_type": "display_data"
    },
    {
     "data": {
      "image/png": "[encoded data removed]",
      "text/plain": [
       "<Figure size 432x288 with 1 Axes>"
      ]
     },
     "metadata": {
      "needs_background": "light"
     },
     "output_type": "display_data"
    }
   ],
   "source": [
    "#ex 10\n",
    "def heat(m,v):\n",
    "    return (m*v**2)/2\n",
    "\n",
    "print(heat(2.5,60))\n",
    "\n",
    "\n",
    "m = 3\n",
    "x = np.linspace(0,200, 40)\n",
    "y = heat(m,x)\n",
    "plt.plot(x,y)\n",
    "plt.title(\"heat\")\n",
    "plt.xlabel('V')\n",
    "plt.ylabel('Q')\n",
    "plt.legend('chart 1')\n",
    "plt.show()\n",
    "\n",
    "fig, ax = plt.subplots()\n",
    "t = np.arange(0,200,4)\n",
    "ax.semilogx(t,heat(m,t))\n",
    "ax.grid()\n",
    "plt.show()"
   ]
  },
  {
   "cell_type": "code",
   "execution_count": 29,
   "metadata": {},
   "outputs": [],
   "source": [
    "#ex11\n",
    "class Quaternion:\n",
    "    def __init__(self,a,b,c,d):\n",
    "        self.a = a\n",
    "        self.b = b\n",
    "        self.c = c\n",
    "        self.d = d   \n",
    "    def __str__(self):\n",
    "        return '{0}+{1}i+{2}j+{3}k'.format(self.a,self.b,self.c,self.d)\n",
    "    def __add__(self, x):\n",
    "        return Quaternion(self.a+x.a,self.b+x.b,self.c+x.c,elf.d+x.d)    \n",
    "    def __sub__(self, x):\n",
    "        return Quaternion(self.a-x.a,self.b-x.b,self.c-x.c,self.d-x.d)\n",
    "    def __mul__(self, x):\n",
    "        return Quaternion(self.a*x.a-self.b*x.b-self.c*x.c-self.d*x.d,\n",
    "                          self.a*x.b+self.b*x.a+self.c*x.d-self.d*x.c,self.a*x.c-self.b*x.d+self.c*x.a\n",
    "                          +self.d*x.b,self.a*x.d+self.b*x.c-self.c*x.b+self.d*x.a)    \n",
    "    def conjugate(self):\n",
    "        return Quaternion(self.a/(self.a**2+self.b**2+self.c**2+self.d**2),(-self.b)/(self.a**2+self.b**2+self.c**2+self.d**2),(-self.c)/(self.a**2+self.b**2+self.c**2+self.d**2),(-self.d)/(self.a**2+self.b**2+self.c**2+self.d**2))  \n",
    "    def __truediv__(self, x):\n",
    "        return self*x.conjugate()  \n",
    "    def normalise(self):\n",
    "        n = math.sqrt(self.a*self.a + self.b*self.b + self.c*self.c + self.d*self.d)\n",
    "        self = Quaternion(self.a/n,self.b/n,self.c/n,self.d/n)\n",
    "        return self"
   ]
  },
  {
   "cell_type": "code",
   "execution_count": null,
   "metadata": {},
   "outputs": [],
   "source": []
  }
 ],
 "metadata": {
  "kernelspec": {
   "display_name": "Python 3",
   "language": "python",
   "name": "python3"
  },
  "language_info": {
   "codemirror_mode": {
    "name": "ipython",
    "version": 3
   },
   "file_extension": ".py",
   "mimetype": "text/x-python",
   "name": "python",
   "nbconvert_exporter": "python",
   "pygments_lexer": "ipython3",
   "version": "3.7.6"
  }
 },
 "nbformat": 4,
 "nbformat_minor": 4
}
