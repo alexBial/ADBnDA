{
 "cells": [
  {
   "cell_type": "code",
   "execution_count": 1,
   "metadata": {},
   "outputs": [],
   "source": [
    "#prepare libs\n",
    "import sys\n",
    "import pystan\n",
    "import matplotlib.pyplot as plt\n",
    "import matplotlib as mpl\n",
    "import stan_utility\n",
    "import arviz as az\n",
    "import numpy as np\n",
    "import scipy.stats as stats\n",
    "import pandas as pd"
   ]
  },
  {
   "cell_type": "markdown",
   "metadata": {},
   "source": [
    "Aviation accidents 1976-1985\n",
    "\n",
    "extra source:\n",
    "Aviation Safety, Human Factors - System Engineering - Flight Operations - Economics - Strategies - Management\n",
    " // author Hans M. Soekkha"
   ]
  },
  {
   "cell_type": "code",
   "execution_count": 14,
   "metadata": {},
   "outputs": [
    {
     "name": "stderr",
     "output_type": "stream",
     "text": [
      "INFO:numexpr.utils:Note: NumExpr detected 12 cores but \"NUMEXPR_MAX_THREADS\" not set, so enforcing safe limit of 8.\n",
      "INFO:numexpr.utils:NumExpr defaulting to 8 threads.\n"
     ]
    }
   ],
   "source": [
    "#prepare data\n",
    "accidents = [24,25,31,31,22,21,26,20,16,22]\n",
    "deaths = [734,516,754,877,814,362,764,809,223,1066]\n",
    "death_rate = [0.19, 0.12, 0.15, 0.16, 0.14, 0.06, 0.13, 0.13, 0.03, 0.15] \n",
    "\n",
    "aviation_data=pd.DataFrame({'Year':[1976,1977,1978,1979,1980,1981,1982,1983,1984,1985],\n",
    "'Fatal accidents':accidents,  \n",
    "'Passenger deaths':deaths,\n",
    "'Death rate':death_rate}).set_index('Year')\n",
    "aviation_data['miles flown [100 mln miles]'] = np.round(aviation_data['Passenger deaths']/aviation_data['Death rate'])\n",
    "                            "
   ]
  },
  {
   "cell_type": "code",
   "execution_count": 34,
   "metadata": {},
   "outputs": [
    {
     "data": {
      "text/html": [
       "<div>\n",
       "<style scoped>\n",
       "    .dataframe tbody tr th:only-of-type {\n",
       "        vertical-align: middle;\n",
       "    }\n",
       "\n",
       "    .dataframe tbody tr th {\n",
       "        vertical-align: top;\n",
       "    }\n",
       "\n",
       "    .dataframe thead th {\n",
       "        text-align: right;\n",
       "    }\n",
       "</style>\n",
       "<table border=\"1\" class=\"dataframe\">\n",
       "  <thead>\n",
       "    <tr style=\"text-align: right;\">\n",
       "      <th></th>\n",
       "      <th>Fatal accidents</th>\n",
       "      <th>Passenger deaths</th>\n",
       "      <th>Death rate</th>\n",
       "      <th>miles flown [100 mln miles]</th>\n",
       "    </tr>\n",
       "    <tr>\n",
       "      <th>Year</th>\n",
       "      <th></th>\n",
       "      <th></th>\n",
       "      <th></th>\n",
       "      <th></th>\n",
       "    </tr>\n",
       "  </thead>\n",
       "  <tbody>\n",
       "    <tr>\n",
       "      <th>1976</th>\n",
       "      <td>24</td>\n",
       "      <td>734</td>\n",
       "      <td>0.19</td>\n",
       "      <td>3863.0</td>\n",
       "    </tr>\n",
       "    <tr>\n",
       "      <th>1977</th>\n",
       "      <td>25</td>\n",
       "      <td>516</td>\n",
       "      <td>0.12</td>\n",
       "      <td>4300.0</td>\n",
       "    </tr>\n",
       "    <tr>\n",
       "      <th>1978</th>\n",
       "      <td>31</td>\n",
       "      <td>754</td>\n",
       "      <td>0.15</td>\n",
       "      <td>5027.0</td>\n",
       "    </tr>\n",
       "    <tr>\n",
       "      <th>1979</th>\n",
       "      <td>31</td>\n",
       "      <td>877</td>\n",
       "      <td>0.16</td>\n",
       "      <td>5481.0</td>\n",
       "    </tr>\n",
       "    <tr>\n",
       "      <th>1980</th>\n",
       "      <td>22</td>\n",
       "      <td>814</td>\n",
       "      <td>0.14</td>\n",
       "      <td>5814.0</td>\n",
       "    </tr>\n",
       "    <tr>\n",
       "      <th>1981</th>\n",
       "      <td>21</td>\n",
       "      <td>362</td>\n",
       "      <td>0.06</td>\n",
       "      <td>6033.0</td>\n",
       "    </tr>\n",
       "    <tr>\n",
       "      <th>1982</th>\n",
       "      <td>26</td>\n",
       "      <td>764</td>\n",
       "      <td>0.13</td>\n",
       "      <td>5877.0</td>\n",
       "    </tr>\n",
       "    <tr>\n",
       "      <th>1983</th>\n",
       "      <td>20</td>\n",
       "      <td>809</td>\n",
       "      <td>0.13</td>\n",
       "      <td>6223.0</td>\n",
       "    </tr>\n",
       "    <tr>\n",
       "      <th>1984</th>\n",
       "      <td>16</td>\n",
       "      <td>223</td>\n",
       "      <td>0.03</td>\n",
       "      <td>7433.0</td>\n",
       "    </tr>\n",
       "    <tr>\n",
       "      <th>1985</th>\n",
       "      <td>22</td>\n",
       "      <td>1066</td>\n",
       "      <td>0.15</td>\n",
       "      <td>7107.0</td>\n",
       "    </tr>\n",
       "  </tbody>\n",
       "</table>\n",
       "</div>"
      ],
      "text/plain": [
       "      Fatal accidents  Passenger deaths  Death rate  \\\n",
       "Year                                                  \n",
       "1976               24               734        0.19   \n",
       "1977               25               516        0.12   \n",
       "1978               31               754        0.15   \n",
       "1979               31               877        0.16   \n",
       "1980               22               814        0.14   \n",
       "1981               21               362        0.06   \n",
       "1982               26               764        0.13   \n",
       "1983               20               809        0.13   \n",
       "1984               16               223        0.03   \n",
       "1985               22              1066        0.15   \n",
       "\n",
       "      miles flown [100 mln miles]  \n",
       "Year                               \n",
       "1976                       3863.0  \n",
       "1977                       4300.0  \n",
       "1978                       5027.0  \n",
       "1979                       5481.0  \n",
       "1980                       5814.0  \n",
       "1981                       6033.0  \n",
       "1982                       5877.0  \n",
       "1983                       6223.0  \n",
       "1984                       7433.0  \n",
       "1985                       7107.0  "
      ]
     },
     "execution_count": 34,
     "metadata": {},
     "output_type": "execute_result"
    }
   ],
   "source": [
    "acc=[]\n",
    "data_ = []\n",
    "for i in aviation_data['Passenger deaths']:  \n",
    "    data_.append(-(1.+acc.count(k)))\n",
    "    acc.append(k)\n",
    "data_=np.array(dta_cnt)\n",
    "\n",
    "aviation_data"
   ]
  },
  {
   "cell_type": "markdown",
   "metadata": {},
   "source": [
    "exercise 1\n",
    "\n",
    "The rate is constant for all years and not depending on anything\n"
   ]
  },
  {
   "cell_type": "markdown",
   "metadata": {},
   "source": [
    "We need to create prior model. Our goal is distribution with a probability less than 1% to accept 20 000 deaths.\n",
    "We need to find the  𝜆  parameter which meet the requirements: 𝜆+3√𝜆≈20000"
   ]
  },
  {
   "cell_type": "code",
   "execution_count": 21,
   "metadata": {},
   "outputs": [
    {
     "name": "stdout",
     "output_type": "stream",
     "text": [
      "[19580.]\n"
     ]
    }
   ],
   "source": [
    "root_lambda = np.polynomial.polynomial.polyroots([-20000.,3.,1.])\n",
    "lambda_ = np.round(root_lambda[root_lambda>0]**2)\n",
    "print(lambda_)"
   ]
  },
  {
   "cell_type": "markdown",
   "metadata": {},
   "source": [
    "Parameter 𝜆 must be in range of ∈(0,19580)"
   ]
  },
  {
   "cell_type": "code",
   "execution_count": 22,
   "metadata": {},
   "outputs": [
    {
     "name": "stdout",
     "output_type": "stream",
     "text": [
      "functions {\n",
      "  vector tail_delta(vector y, vector theta, real[] x_r, int[] x_i) {\n",
      "    vector[1] deltas;\n",
      "    deltas[1] = 2 * (normal_cdf(theta[1], 0, exp(y[1])) - 0.5) - 0.99;\n",
      "    return deltas;\n",
      "  }\n",
      "}\n",
      "\n",
      "data {\n",
      "  vector[1] y_guess;\n",
      "  vector[1] theta;\n",
      "}\n",
      "\n",
      "transformed data {\n",
      "  vector[1] y;\n",
      "  real x_r[0];\n",
      "  int x_i[0];\n",
      "  y = algebra_solver(tail_delta, y_guess, theta, x_r, x_i);\n",
      "}\n",
      "\n",
      "generated quantities {\n",
      "  real sigma = exp(y[1]);\n",
      "}\n"
     ]
    }
   ],
   "source": [
    "with open('da4_stan_files\\\\prior_model.stan', 'r') as file:\n",
    "    print(file.read())"
   ]
  },
  {
   "cell_type": "code",
   "execution_count": 23,
   "metadata": {},
   "outputs": [
    {
     "name": "stderr",
     "output_type": "stream",
     "text": [
      "INFO:pystan:COMPILING THE C++ CODE FOR MODEL anon_model_d7503279f6876cbee407a2d382e22bbd NOW.\n"
     ]
    }
   ],
   "source": [
    "prior_model =stan_utility.compile_model('da4_stan_files\\\\prior_model.stan')"
   ]
  },
  {
   "cell_type": "code",
   "execution_count": 26,
   "metadata": {},
   "outputs": [
    {
     "name": "stdout",
     "output_type": "stream",
     "text": [
      "7601.0\n"
     ]
    }
   ],
   "source": [
    "data = dict(y_guess=np.array([np.log(10000)]),theta=np.array(lambda_))\n",
    "tuned = prior_model.sampling(data=data,\n",
    "                          seed=1052020,\n",
    "                          algorithm=\"Fixed_param\",\n",
    "                          iter=1, \n",
    "                          warmup=0,\n",
    "                          chains=1)\n",
    "sigma = np.round(tuned.extract()['sigma'][0])\n",
    "print(sigma) "
   ]
  },
  {
   "cell_type": "code",
   "execution_count": 28,
   "metadata": {},
   "outputs": [
    {
     "data": {
      "image/png": "[encoded data removed]",
      "text/plain": [
       "<Figure size 720x720 with 1 Axes>"
      ]
     },
     "metadata": {
      "needs_background": "light"
     },
     "output_type": "display_data"
    }
   ],
   "source": [
    "fig, ax2 = plt.subplots(1, 1,figsize=(10, 10))\n",
    "x2=np.linspace(0,3*sigma,1000)\n",
    "x4=np.linspace(0,lambda_[0],1000)\n",
    "ax2.plot(x2,2*stats.norm.pdf(x2,scale=sigma))\n",
    "ax2.fill_between(x4,2*stats.norm.pdf(x4,scale=sigma),0)\n",
    "ax2.set_title('$\\lambda$')\n",
    "plt.show()"
   ]
  },
  {
   "cell_type": "code",
   "execution_count": 30,
   "metadata": {},
   "outputs": [
    {
     "name": "stdout",
     "output_type": "stream",
     "text": [
      "data {\n",
      "  int M;\n",
      "}\n",
      "generated quantities {\n",
      "  real lambda=fabs(normal_rng(0,7601));\n",
      "  int y_sim[M];\n",
      "  for (k in 1:M) {\n",
      "    y_sim[k] = poisson_rng(lambda);\n",
      "  }\n",
      "}\n"
     ]
    }
   ],
   "source": [
    "#Prior predictive check\n",
    "# Based on the parameters (calculated sigma and lambda), we can find appropriate half-normal distribution and poisson distribution\n",
    "\n",
    "with open('da4_stan_files\\\\predictive_prior1.stan', 'r') as file:\n",
    "    print(file.read())\n"
   ]
  },
  {
   "cell_type": "code",
   "execution_count": 31,
   "metadata": {},
   "outputs": [
    {
     "name": "stderr",
     "output_type": "stream",
     "text": [
      "INFO:pystan:COMPILING THE C++ CODE FOR MODEL anon_model_0a4a8071bb9ae37b62dbb3a4aee74223 NOW.\n"
     ]
    }
   ],
   "source": [
    "predicitve_prior_model =stan_utility.compile_model('da4_stan_files\\\\predictive_prior1.stan')"
   ]
  },
  {
   "cell_type": "code",
   "execution_count": 33,
   "metadata": {},
   "outputs": [],
   "source": [
    "tuned =predicitve_prior_model.sampling(data={'M':1},\n",
    "                            algorithm=\"Fixed_param\",\n",
    "                            iter=1000,\n",
    "                            warmup=0,\n",
    "                            chains=1, \n",
    "                            refresh=1000,\n",
    "                            seed=1052020)"
   ]
  },
  {
   "cell_type": "code",
   "execution_count": 38,
   "metadata": {},
   "outputs": [
    {
     "data": {
      "image/png": "[encoded data removed]",
      "text/plain": [
       "<Figure size 720x720 with 2 Axes>"
      ]
     },
     "metadata": {
      "needs_background": "light"
     },
     "output_type": "display_data"
    }
   ],
   "source": [
    "parameters=tuned.extract()\n",
    "lambda1=parameters['lambda']\n",
    "y_sim=parameters['y_sim']\n",
    "\n",
    "fig, axes = plt.subplots(2, 1,figsize=(10, 10))\n",
    "ax1=axes[0]\n",
    "ax1.hist(lambda1, bins=20, density=True)\n",
    "x=np.linspace(0,25000,2000)\n",
    "ax1.set_title('$\\lambda$')\n",
    "ax1.plot(x,2*stats.norm.pdf(x,0,sigma))\n",
    "arr_y_loc = 2*stats.norm.pdf(10000,0,sigma)\n",
    "\n",
    "ax2=axes[1]\n",
    "ax2.hist(y_sim.flatten(), density=True,bins=20,zorder=1)\n",
    "ax2.scatter(acc,0.000004*data_)\n",
    "ax2.set_xticks([0,20000])\n",
    "ax2.set_yticks([])\n",
    "\n",
    "ax2.set_title('number of accidents')\n",
    "plt.show()"
   ]
  },
  {
   "cell_type": "markdown",
   "metadata": {},
   "source": [
    "Posterior predictive\n",
    "Try to predict number of deaths in 1986"
   ]
  },
  {
   "cell_type": "code",
   "execution_count": 91,
   "metadata": {},
   "outputs": [
    {
     "name": "stdout",
     "output_type": "stream",
     "text": [
      "data {\n",
      "  int M;\n",
      "  int y[M];\n",
      "}\n",
      "parameters {\n",
      "  real<lower=0>lambda;\n",
      "}\n",
      "model {\n",
      "  lambda ~ normal(0,7601);\n",
      "  for (k in 1:M) {\n",
      "    y[k] ~ poisson(lambda);\n",
      "  }\n",
      "}\n",
      "generated quantities {\n",
      "  int y_sim[M];\n",
      "  for (k in 1:M) {\n",
      "    y_sim[k] = poisson_rng(lambda);\n",
      "  }\n",
      "}\n"
     ]
    }
   ],
   "source": [
    "with open('da4_stan_files\\\\posterior_predictive1.stan', 'r') as file:\n",
    "    print(file.read())"
   ]
  },
  {
   "cell_type": "code",
   "execution_count": 92,
   "metadata": {},
   "outputs": [
    {
     "name": "stdout",
     "output_type": "stream",
     "text": [
      "Using cached StanModel\n"
     ]
    }
   ],
   "source": [
    "posterior_predictive_model =stan_utility.compile_model('da4_stan_files\\\\posterior_predictive1.stan')"
   ]
  },
  {
   "cell_type": "code",
   "execution_count": 93,
   "metadata": {},
   "outputs": [
    {
     "name": "stdout",
     "output_type": "stream",
     "text": [
      "mean lambda : 691.70327\n",
      "89% confidence interval: [ 675.19008 706.66290 ]\n"
     ]
    }
   ],
   "source": [
    "data = dict(M = len(aviation_data),\n",
    "            y = aviation_data['Passenger deaths'])\n",
    "tuned = posterior_predictive_model.sampling(data=data, seed=1052020)\n",
    "\n",
    "parameters= tuned.extract()\n",
    "lambda_=parameters['lambda']\n",
    "y_sim=parameters['y_sim']\n",
    "\n",
    "mean_lambda = np.mean(lambda_)\n",
    "cinf_lambda = az.hpd(lambda_,0.89)\n",
    "\n",
    "hpd_width=cinf_lambda[1]-cinf_lambda[0]\n",
    "\n",
    "print('mean lambda : {:4.5f}'.format(mean_lambda))\n",
    "print('89% confidence interval: [',*['{:4.5f}'.format(k) for k in cinf_lambda],']')"
   ]
  },
  {
   "cell_type": "code",
   "execution_count": 94,
   "metadata": {},
   "outputs": [
    {
     "data": {
      "image/png": "[encoded data removed]",
      "text/plain": [
       "<Figure size 720x720 with 3 Axes>"
      ]
     },
     "metadata": {
      "needs_background": "light"
     },
     "output_type": "display_data"
    }
   ],
   "source": [
    "fig, axes = plt.subplots(2, 1,figsize=(10, 10))\n",
    "ax1=axes[0]\n",
    "ax1.hist(lambda_, bins=20, density=True)\n",
    "x=np.linspace(0,20000,1000)\n",
    "\n",
    "ax1.plot(x,2*stats.norm.pdf(x,0,sigma))\n",
    "arr_y_loc = 2*stats.norm.pdf(5000,0,sigma)\n",
    "ax1.set_title('$\\lambda$')\n",
    "\n",
    "ax_sm=plt.axes([0.5,0.6,0.35,0.2])\n",
    "x_sm=np.linspace(cinf_lambda[0]-hpd_width, cinf_lambda[1]+hpd_width, 200)\n",
    "ax_sm.hist(lam,bins=20,density=True)\n",
    "ax_sm.plot(x_sm,2*stats.norm.pdf(x_sm,0,sigma))\n",
    "ax_sm.plot([cinf_lambda[0],cinf_lambda[0]],[0,0.06])\n",
    "ax_sm.plot([cinf_lambda[1],cinf_lambda[1]],[0,0.06])\n",
    "\n",
    "\n",
    "ax_sm.set_title('$\\lambda$ HPD')\n",
    "\n",
    "ax2=axes[1]\n",
    "ax2.hist(y_sim.flatten(),density=True,bins=20,zorder=1)\n",
    "ax2.scatter(acc,0.002*data_,)\n",
    "\n",
    "ax2.set_title('number of accidents')\n",
    "plt.show()"
   ]
  },
  {
   "cell_type": "code",
   "execution_count": 95,
   "metadata": {},
   "outputs": [
    {
     "name": "stdout",
     "output_type": "stream",
     "text": [
      "median of predicted accidents:  692.0\n"
     ]
    }
   ],
   "source": [
    "median_y_sim = np.median(y_sim.flatten())\n",
    "print('median of predicted accidents: ',median_y_sim) # 564 is real world value"
   ]
  },
  {
   "cell_type": "markdown",
   "metadata": {},
   "source": [
    "exercise 2\n",
    "\n",
    "Unlike last time, now we gonna consider number of miles traveled. \n",
    "We need to meet these requierment: 𝜃⋅𝑛+3√(𝜃⋅𝑛) ≈20000"
   ]
  },
  {
   "cell_type": "code",
   "execution_count": 54,
   "metadata": {},
   "outputs": [
    {
     "name": "stdout",
     "output_type": "stream",
     "text": [
      "theta upper bound:  3.4256\n"
     ]
    }
   ],
   "source": [
    "flown_miles_mean =np.mean(aviation_data['miles flown [100 mln miles]'])\n",
    "root_theta=np.polynomial.polynomial.polyroots([-20000/flown_miles_mean,3./np.sqrt(flown_miles_mean),1.])\n",
    "theta_ub=(root_theta[root_lambda>0]**2)\n",
    "print('theta upper bound: ','{:4.5}'.format(theta_ub[0]))"
   ]
  },
  {
   "cell_type": "code",
   "execution_count": 55,
   "metadata": {},
   "outputs": [
    {
     "name": "stdout",
     "output_type": "stream",
     "text": [
      "sigma = 1.3299\n"
     ]
    }
   ],
   "source": [
    "data= dict (y_guess=np.array([np.log(1)]),theta=np.array(theta_ub))\n",
    "tuned = prior_model.sampling(data=data,\n",
    "                          seed=1052020,\n",
    "                          algorithm=\"Fixed_param\",\n",
    "                          iter=1, \n",
    "                          warmup=0,\n",
    "                          chains=1)\n",
    "sigma = (tuned.extract()['sigma'][0])\n",
    "print('sigma =','{:4.5}'.format(sigma))"
   ]
  },
  {
   "cell_type": "code",
   "execution_count": 57,
   "metadata": {},
   "outputs": [
    {
     "data": {
      "image/png": "[encoded data removed]",
      "text/plain": [
       "<Figure size 720x720 with 1 Axes>"
      ]
     },
     "metadata": {
      "needs_background": "light"
     },
     "output_type": "display_data"
    }
   ],
   "source": [
    "fig, ax2 = plt.subplots(1, 1,figsize=(10, 10))\n",
    "x2=np.linspace(0,3*sigma,1000)\n",
    "x4=np.linspace(0,theta_ub[0],1000)\n",
    "ax2.plot(x2,2*stats.norm.pdf(x2,scale=sigma))\n",
    "ax2.fill_between(x4,2*stats.norm.pdf(x4,scale=sigma),0)\n",
    "ax2.set_title(r'$\\theta$')\n",
    "plt.show()"
   ]
  },
  {
   "cell_type": "code",
   "execution_count": null,
   "metadata": {},
   "outputs": [],
   "source": [
    "#Prior predictive check\n"
   ]
  },
  {
   "cell_type": "code",
   "execution_count": 58,
   "metadata": {},
   "outputs": [
    {
     "name": "stdout",
     "output_type": "stream",
     "text": [
      "data {\n",
      "  int M;\n",
      "  vector[M] miles;\n",
      "}\n",
      "\n",
      "generated quantities {\n",
      "  real theta=fabs(normal_rng(0,1.33));\n",
      "  int y_sim[M];\n",
      "  for (k in 1:M)\n",
      "  {\n",
      "    y_sim[k] = poisson_rng(theta*miles[k]);\n",
      "  }\n",
      "}\n"
     ]
    }
   ],
   "source": [
    "with open('da4_stan_files\\\\predictive_prior2.stan', 'r') as file:\n",
    "    print(file.read())"
   ]
  },
  {
   "cell_type": "code",
   "execution_count": 59,
   "metadata": {},
   "outputs": [
    {
     "name": "stderr",
     "output_type": "stream",
     "text": [
      "INFO:pystan:COMPILING THE C++ CODE FOR MODEL anon_model_36207bbe10b976924bbef9a81c58602c NOW.\n"
     ]
    }
   ],
   "source": [
    "predictive_prior2 = stan_utility.compile_model('da4_stan_files\\\\predictive_prior2.stan')"
   ]
  },
  {
   "cell_type": "code",
   "execution_count": 61,
   "metadata": {},
   "outputs": [],
   "source": [
    "data2 = dict(M=len(aviation_data),miles=aviation_data['miles flown [100 mln miles]'].to_numpy())\n",
    "tuned = predictive_prior2.sampling(data=data2,\n",
    "                            algorithm=\"Fixed_param\", \n",
    "                            iter = 1000, \n",
    "                            warmup=0, \n",
    "                            chains=1, \n",
    "                            refresh=1000,\n",
    "                            seed=1052020)"
   ]
  },
  {
   "cell_type": "code",
   "execution_count": 62,
   "metadata": {},
   "outputs": [
    {
     "data": {
      "image/png": "[encoded data removed]",
      "text/plain": [
       "<Figure size 720x720 with 1 Axes>"
      ]
     },
     "metadata": {
      "needs_background": "light"
     },
     "output_type": "display_data"
    }
   ],
   "source": [
    "parameters=tuned.extract()\n",
    "theta=parameters['theta']\n",
    "\n",
    "fig, axes = plt.subplots(1, 1,figsize=(10, 10))\n",
    "ax1=axes\n",
    "ax1.hist(theta,bins=20, density=True)\n",
    "x=np.linspace(0,1.2*theta_ub[0],2000)\n",
    "ax1.set_title(r'$\\theta$')\n",
    "\n",
    "ax1.plot(x,2*stats.norm.pdf(x,0,sigma))\n",
    "plt.show()"
   ]
  },
  {
   "cell_type": "code",
   "execution_count": 67,
   "metadata": {},
   "outputs": [
    {
     "data": {
      "image/png": "[encoded data removed]",
      "text/plain": [
       "<Figure size 720x720 with 10 Axes>"
      ]
     },
     "metadata": {
      "needs_background": "light"
     },
     "output_type": "display_data"
    }
   ],
   "source": [
    "y_sim=parameters['y_sim']\n",
    "fig, axes = plt.subplots(5, 2, figsize=(10, 10))\n",
    "axes_flat=axes.flatten()\n",
    "\n",
    "for i in range(len(axes_flat)):\n",
    "    ax = axes_flat[i]\n",
    "    ax.hist(y_sim[:,i],bins=20, density=True)\n",
    "    ax.set_title(aviation_data.index[i])\n",
    "    p =aviation_data['Passenger deaths'].iloc[i]\n",
    "    ax.plot([p,p],[0,0.00015])\n",
    "    ax.set_yticks([])\n",
    "    ax.set_xticks([p,20000])\n",
    "\n",
    "fig.tight_layout()\n",
    "\n",
    "plt.show()"
   ]
  },
  {
   "cell_type": "code",
   "execution_count": 68,
   "metadata": {},
   "outputs": [
    {
     "name": "stdout",
     "output_type": "stream",
     "text": [
      "data {\n",
      "  int M;\n",
      "  vector[M] miles;\n",
      "  int y[M];\n",
      "}\n",
      "parameters {\n",
      "  real<lower=0>theta;\n",
      "}\n",
      "model {\n",
      "  theta ~ normal(0,1.33);\n",
      "  for (k in 1:M) \n",
      "  {\n",
      "    y[k] ~ poisson(miles[k]*theta);\n",
      "  }\n",
      "}\n",
      "generated quantities {\n",
      "  int y_sim[M];\n",
      "  for (k in 1:M)\n",
      "  {\n",
      "    y_sim[k] = poisson_rng(miles[k]*theta);\n",
      "  }\n",
      "}\n"
     ]
    }
   ],
   "source": [
    "#Posterior predictive\n",
    "with open('da4_stan_files\\\\posterior_predictive2.stan', 'r') as file:\n",
    "    print(file.read())"
   ]
  },
  {
   "cell_type": "code",
   "execution_count": 69,
   "metadata": {},
   "outputs": [
    {
     "name": "stderr",
     "output_type": "stream",
     "text": [
      "INFO:pystan:COMPILING THE C++ CODE FOR MODEL anon_model_08cad3a8a031d4d5feda1517dccdfda0 NOW.\n"
     ]
    }
   ],
   "source": [
    "posterior_model2 =stan_utility.compile_model('da4_stan_files\\\\posterior_predictive2.stan')"
   ]
  },
  {
   "cell_type": "code",
   "execution_count": 75,
   "metadata": {},
   "outputs": [
    {
     "name": "stdout",
     "output_type": "stream",
     "text": [
      "mean of theta: 0.12108\n",
      "89% of confidence interval: [ 0.11846 0.12384 ]\n"
     ]
    }
   ],
   "source": [
    "data3 = dict(M = len(aviation_data), miles = aviation_data['miles flown [100 mln miles]'], y = aviation_data['Passenger deaths'])\n",
    "tuned = posterior_model2.sampling(data=data3, seed=1052020)\n",
    "\n",
    "parameters3 = tuned.extract()\n",
    "theta=parameters3['theta']\n",
    "y_sim=parameters3['y_sim']\n",
    "mean_theta = np.mean(theta)\n",
    "cinf_theta = az.hpd(theta,0.89)\n",
    "hpd_width=cinf_theta[1]-cinf_theta[0]\n",
    "\n",
    "print('mean of theta: {:5.5f}'.format(mean_theta))\n",
    "print('89% of confidence interval: [',*['{:5.5f}'.format(k) for k in cinf_theta],']')"
   ]
  },
  {
   "cell_type": "code",
   "execution_count": 79,
   "metadata": {},
   "outputs": [
    {
     "data": {
      "image/png": "[encoded data removed]",
      "text/plain": [
       "<Figure size 720x720 with 2 Axes>"
      ]
     },
     "metadata": {
      "needs_background": "light"
     },
     "output_type": "display_data"
    }
   ],
   "source": [
    "fig, axes = plt.subplots(1, 1,figsize=(10, 10))\n",
    "ax1=axes\n",
    "ax1.hist(theta,bins=20,density=True)\n",
    "x=np.linspace(0,1.2*theta_ub[0],2000)\n",
    "ax1.set_title(r'$\\theta$')\n",
    "ax1.plot(x,2*stats.norm.pdf(x,0,sigma))\n",
    "\n",
    "ax_sm=plt.axes([0.5,0.3,0.35,0.4])\n",
    "x_sm=np.linspace(cinf_theta[0]-hpd_width,cinf_theta[1]+hpd_width,200)\n",
    "ax_sm.hist(theta,bins=20, density=True)\n",
    "ax_sm.plot(x_sm,2*stats.norm.pdf(x_sm,0,sigma))\n",
    "ax_sm.plot([cinf_theta[0],cinf_theta[0]],[0,250])\n",
    "ax_sm.plot([cinf_theta[1],cinf_theta[1]],[0,250])\n",
    "ax_sm.set_xticks(([cinf_theta[0],cinf_theta[1]]))\n",
    "ax_sm.set_xticklabels(np.round([cinf_theta[0],cinf_theta[1]],4))\n",
    "\n",
    "ax_sm.set_title(r'$\\theta$ HPD')\n",
    "\n",
    "plt.show()"
   ]
  },
  {
   "cell_type": "code",
   "execution_count": 81,
   "metadata": {},
   "outputs": [
    {
     "data": {
      "image/png": "[encoded data removed]",
      "text/plain": [
       "<Figure size 720x720 with 10 Axes>"
      ]
     },
     "metadata": {
      "needs_background": "light"
     },
     "output_type": "display_data"
    }
   ],
   "source": [
    "y_sim=parameters3['y_sim']\n",
    "fig, axes = plt.subplots(5, 2, figsize=(10, 10))\n",
    "axes_flat=axes.flatten()\n",
    "for i in range(len(axes_flat)):\n",
    "    ax = axes_flat[i]\n",
    "    ax.hist(y_sim[:,i],bins=20, density=True)\n",
    "    ax.set_title(aviation_data.index[i])\n",
    "    p=aviation_data['Passenger deaths'].iloc[i]\n",
    "    ax.plot([p,p],[0,0.02])\n",
    "fig.tight_layout()\n",
    "\n",
    "plt.show()"
   ]
  },
  {
   "cell_type": "code",
   "execution_count": 82,
   "metadata": {},
   "outputs": [
    {
     "name": "stdout",
     "output_type": "stream",
     "text": [
      "9100.0\n"
     ]
    }
   ],
   "source": [
    "#prediction model\n",
    "# 1986 22 fatal accidents, 546 passenger deaths, death rate of 0.06\n",
    "flown_miles_1986 = 546/0.06\n",
    "print(flown_miles_1986)"
   ]
  },
  {
   "cell_type": "code",
   "execution_count": 84,
   "metadata": {},
   "outputs": [
    {
     "name": "stderr",
     "output_type": "stream",
     "text": [
      "INFO:pystan:COMPILING THE C++ CODE FOR MODEL anon_model_a02be13b5d02856a972723bda4176e54 NOW.\n"
     ]
    },
    {
     "name": "stdout",
     "output_type": "stream",
     "text": [
      "data \n",
      "{\n",
      "  int M;\n",
      "  vector[M] miles;\n",
      "  int y[M];\n",
      "}\n",
      "parameters \n",
      "{\n",
      "  real<lower=0>theta;\n",
      "}\n",
      "model \n",
      "{\n",
      "  theta ~ normal(0,1.33);\n",
      "  for (k in 1:M) \n",
      "  {\n",
      "    y[k] ~ poisson(miles[k]*theta);\n",
      "  }\n",
      "}\n",
      "generated quantities \n",
      "{\n",
      "  int y_1986 = poisson_rng(9100*theta);\n",
      "}\n"
     ]
    }
   ],
   "source": [
    "with open('da4_stan_files\\\\prediction_1986.stan', 'r') as file:\n",
    "    print(file.read())\n",
    "\n",
    "prediction_1986_model =stan_utility.compile_model('da4_stan_files\\\\prediction_1986.stan')"
   ]
  },
  {
   "cell_type": "code",
   "execution_count": 89,
   "metadata": {},
   "outputs": [
    {
     "name": "stdout",
     "output_type": "stream",
     "text": [
      "median of predicted accidents:  1101.0\n"
     ]
    }
   ],
   "source": [
    "data = dict(M = len(aviation_data),miles = aviation_data['miles flown [100 mln miles]'],y = aviation_data['Passenger deaths'])\n",
    "tuned  = prediction_1986_model.sampling(data=data, \n",
    "                                        seed=1052020)\n",
    "\n",
    "prediction_data_1986 = tuned.extract()['y_1986']\n",
    "median_1986 = np.median(prediction_data_1986)\n",
    "print('median of predicted accidents: ',median_1986)"
   ]
  },
  {
   "cell_type": "markdown",
   "metadata": {},
   "source": [
    "Unfortunately , accuracy of our prediction model is not so good."
   ]
  },
  {
   "cell_type": "code",
   "execution_count": null,
   "metadata": {},
   "outputs": [],
   "source": []
  }
 ],
 "metadata": {
  "kernelspec": {
   "display_name": "Python 3",
   "language": "python",
   "name": "python3"
  },
  "language_info": {
   "codemirror_mode": {
    "name": "ipython",
    "version": 3
   },
   "file_extension": ".py",
   "mimetype": "text/x-python",
   "name": "python",
   "nbconvert_exporter": "python",
   "pygments_lexer": "ipython3",
   "version": "3.7.6"
  }
 },
 "nbformat": 4,
 "nbformat_minor": 4
}
